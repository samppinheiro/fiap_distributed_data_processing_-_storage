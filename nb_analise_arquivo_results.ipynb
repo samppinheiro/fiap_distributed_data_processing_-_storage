{
 "cells": [
  {
   "cell_type": "markdown",
   "metadata": {
    "application/vnd.databricks.v1+cell": {
     "cellMetadata": {
      "byteLimit": 2048000,
      "rowLimit": 10000
     },
     "inputWidgets": {},
     "nuid": "51c2227f-33d9-40b8-a238-144be905f7a1",
     "showTitle": false,
     "tableResultSettingsMap": {},
     "title": ""
    }
   },
   "source": [
    "Aluna: Samantha Pinheiro Gomes\n",
    "\n",
    "RM: 362698\n",
    "\n",
    "Turma: 29ABD\n",
    "\n",
    "Matéria: Distributed Data Processing & Storage\n",
    "\n",
    "Este notebook realiza a análise do arquivo \"results\", que contém dados de diversos jogos realizados em várias cidades e países ao redor do mundo, incluindo as datas dos eventos e seus respectivos placares. \n",
    "\n"
   ]
  },
  {
   "cell_type": "markdown",
   "metadata": {
    "application/vnd.databricks.v1+cell": {
     "cellMetadata": {},
     "inputWidgets": {},
     "nuid": "0cac417b-51ce-4ce4-8eb7-66b20ab570e6",
     "showTitle": false,
     "tableResultSettingsMap": {},
     "title": ""
    }
   },
   "source": [
    "Import de bibliotecas"
   ]
  },
  {
   "cell_type": "code",
   "execution_count": 0,
   "metadata": {
    "application/vnd.databricks.v1+cell": {
     "cellMetadata": {
      "byteLimit": 2048000,
      "rowLimit": 10000
     },
     "inputWidgets": {},
     "nuid": "768afc39-6780-4333-b3f5-66e48f580ee3",
     "showTitle": false,
     "tableResultSettingsMap": {},
     "title": ""
    }
   },
   "outputs": [],
   "source": [
    "import pandas as pd\n",
    "import requests\n",
    "from pyspark.sql.types import StructType, StructField, StringType, IntegerType, DoubleType, DateType, BooleanType\n",
    "from io import StringIO\n",
    "from pyspark.sql.functions import to_date, col, max"
   ]
  },
  {
   "cell_type": "markdown",
   "metadata": {
    "application/vnd.databricks.v1+cell": {
     "cellMetadata": {},
     "inputWidgets": {},
     "nuid": "2ddf086a-f53b-4e66-b27c-d2a3e3391518",
     "showTitle": false,
     "tableResultSettingsMap": {},
     "title": ""
    }
   },
   "source": [
    "Baixa arquivo armazenado no GitHub"
   ]
  },
  {
   "cell_type": "code",
   "execution_count": 0,
   "metadata": {
    "application/vnd.databricks.v1+cell": {
     "cellMetadata": {
      "byteLimit": 2048000,
      "rowLimit": 10000
     },
     "inputWidgets": {},
     "nuid": "54c8b492-f434-4320-bf95-8f4cad741989",
     "showTitle": false,
     "tableResultSettingsMap": {},
     "title": ""
    }
   },
   "outputs": [],
   "source": [
    "## URL do arquivo no GitHub \n",
    "\n",
    "url = \"https://raw.githubusercontent.com/samppinheiro/fiap_distributed_data_processing_-_storage/main/results.csv\"\n",
    "\n",
    "## Armazena os dados \n",
    "response = requests.get(url)\n",
    "csv_content = response.content.decode(\"utf-8\")\n",
    "\n",
    "## Lê com pandas\n",
    "pandas_df = pd.read_csv(StringIO(csv_content))\n",
    "\n"
   ]
  },
  {
   "cell_type": "markdown",
   "metadata": {
    "application/vnd.databricks.v1+cell": {
     "cellMetadata": {},
     "inputWidgets": {},
     "nuid": "4986117a-b34a-45e7-8a17-eb4f60c9e97c",
     "showTitle": false,
     "tableResultSettingsMap": {},
     "title": ""
    }
   },
   "source": [
    "Load do dados em um DF do spark"
   ]
  },
  {
   "cell_type": "code",
   "execution_count": 0,
   "metadata": {
    "application/vnd.databricks.v1+cell": {
     "cellMetadata": {},
     "inputWidgets": {},
     "nuid": "7fc79a96-a46e-4dcf-9c6c-c07e2efc1164",
     "showTitle": false,
     "tableResultSettingsMap": {},
     "title": ""
    }
   },
   "outputs": [],
   "source": [
    "## Define schema do dataframe \n",
    "\n",
    "schema = StructType([\n",
    "    StructField(\"date\", StringType(), True),\n",
    "    StructField(\"home_team\", StringType(), True),\n",
    "    StructField(\"away_team\", StringType(), True),\n",
    "    StructField(\"home_score\", IntegerType(), True),\n",
    "    StructField(\"away_score\", IntegerType(), True),\n",
    "    StructField(\"tournament\", StringType(), True),\n",
    "    StructField(\"city\", StringType(), True),\n",
    "    StructField(\"country\", StringType(), True),\n",
    "    StructField(\"neutral\", BooleanType(), True)\n",
    "])\n",
    "\n",
    "## Converte para Spark DataFrame\n",
    "df_results = spark.createDataFrame(pandas_df, schema=schema)\n",
    "\n",
    "## Converte o formato da coluna \"date\" \n",
    "df_results = df_results.withColumn(\"date\", to_date(\"date\", \"yyyy-MM-dd\"))\n",
    "\n"
   ]
  },
  {
   "cell_type": "markdown",
   "metadata": {
    "application/vnd.databricks.v1+cell": {
     "cellMetadata": {},
     "inputWidgets": {},
     "nuid": "c1e08222-b7b4-4ca9-9b1b-481bf620c62b",
     "showTitle": false,
     "tableResultSettingsMap": {},
     "title": ""
    }
   },
   "source": [
    "Define dataframe para iniciar a análise"
   ]
  },
  {
   "cell_type": "code",
   "execution_count": 0,
   "metadata": {
    "application/vnd.databricks.v1+cell": {
     "cellMetadata": {
      "byteLimit": 2048000,
      "rowLimit": 10000
     },
     "inputWidgets": {},
     "nuid": "44123395-f694-4f70-a3d8-db9d24b2c540",
     "showTitle": false,
     "tableResultSettingsMap": {},
     "title": ""
    }
   },
   "outputs": [],
   "source": [
    "df_results_consol = (\n",
    "    df_results\n",
    "    .withColumnRenamed(\"date\", \"dt_torneio\")\n",
    "    .withColumnRenamed(\"home_team\", \"nm_time_casa\")\n",
    "    .withColumnRenamed(\"away_team\", \"nm_time_visitante\")\n",
    "    .withColumnRenamed(\"home_score\", \"nr_placar_casa\")\n",
    "    .withColumnRenamed(\"away_score\", \"nr_placar_visitante\")\n",
    "    .withColumnRenamed(\"tournament\", \"nm_torneio\")\n",
    "    .withColumnRenamed(\"city\", \"nm_cidade\")\n",
    "    .withColumnRenamed(\"country\", \"nm_pais\")    \n",
    ").drop(\"neutral\")"
   ]
  },
  {
   "cell_type": "markdown",
   "metadata": {
    "application/vnd.databricks.v1+cell": {
     "cellMetadata": {},
     "inputWidgets": {},
     "nuid": "df692c5e-788b-44da-a884-93ba741334b0",
     "showTitle": false,
     "tableResultSettingsMap": {},
     "title": ""
    }
   },
   "source": [
    "Análises realizadas no arquivo"
   ]
  },
  {
   "cell_type": "code",
   "execution_count": 0,
   "metadata": {
    "application/vnd.databricks.v1+cell": {
     "cellMetadata": {
      "byteLimit": 2048000,
      "rowLimit": 10000
     },
     "inputWidgets": {},
     "nuid": "d982492d-69ea-451d-80f7-6cd96979b3e1",
     "showTitle": false,
     "tableResultSettingsMap": {},
     "title": ""
    }
   },
   "outputs": [],
   "source": [
    "## Quantos registros existem na base?? \n",
    "\n",
    "nm_registro = df_results_consol.count()\n",
    "\n",
    "display(f\"Existem {nm_registro} registros na base\")"
   ]
  },
  {
   "cell_type": "code",
   "execution_count": 0,
   "metadata": {
    "application/vnd.databricks.v1+cell": {
     "cellMetadata": {
      "byteLimit": 2048000,
      "rowLimit": 10000
     },
     "inputWidgets": {},
     "nuid": "4428a7b2-5b91-434f-b609-624a65227d29",
     "showTitle": false,
     "tableResultSettingsMap": {},
     "title": ""
    }
   },
   "outputs": [],
   "source": [
    "## Quantas equipes únicas mandantes existem na base?\n",
    "\n",
    "nm_equipes_mandantes = df_results_consol.select(\"nm_time_casa\").distinct().count()\n",
    "\n",
    "display(f\"Existem {nm_equipes_mandantes} equipes mandantes na base\")"
   ]
  },
  {
   "cell_type": "code",
   "execution_count": 0,
   "metadata": {
    "application/vnd.databricks.v1+cell": {
     "cellMetadata": {
      "byteLimit": 2048000,
      "rowLimit": 10000
     },
     "inputWidgets": {},
     "nuid": "10888684-d0bf-4714-a324-879f352f5e28",
     "showTitle": false,
     "tableResultSettingsMap": {},
     "title": ""
    }
   },
   "outputs": [],
   "source": [
    "## Quantas vezes as equipes mandantes saíram vitoriosas?\n",
    "\n",
    "nm_vitorias_mandantes = (df_results_consol\n",
    "                         .filter(col(\"nr_placar_casa\") > col(\"nr_placar_visitante\"))\n",
    "                         .count())\n",
    "\n",
    "display(f\"As equipes mandantes saíram vitoriosas {nm_vitorias_mandantes} vezes\")"
   ]
  },
  {
   "cell_type": "code",
   "execution_count": 0,
   "metadata": {
    "application/vnd.databricks.v1+cell": {
     "cellMetadata": {
      "byteLimit": 2048000,
      "rowLimit": 10000
     },
     "inputWidgets": {},
     "nuid": "d96a2958-1117-406e-8dc9-babeba81ab12",
     "showTitle": false,
     "tableResultSettingsMap": {},
     "title": ""
    }
   },
   "outputs": [],
   "source": [
    "## Quantas vezes as equipes visitantes saíram vitoriosas?\n",
    "\n",
    "nm_vitorias_visitantes = (df_results_consol\n",
    "                         .filter(col(\"nr_placar_visitante\") > col(\"nr_placar_casa\"))\n",
    "                         .count())\n",
    "\n",
    "display(f\"As equipes visitantes saíram vitoriosas {nm_vitorias_visitantes} vezes\")"
   ]
  },
  {
   "cell_type": "code",
   "execution_count": 0,
   "metadata": {
    "application/vnd.databricks.v1+cell": {
     "cellMetadata": {
      "byteLimit": 2048000,
      "rowLimit": 10000
     },
     "inputWidgets": {},
     "nuid": "a757e930-90df-469a-8d65-a625ec66f386",
     "showTitle": false,
     "tableResultSettingsMap": {},
     "title": ""
    }
   },
   "outputs": [],
   "source": [
    "## Quantas partidas resultaram em empate?\n",
    "nm_empate = (df_results_consol\n",
    "                         .filter(col(\"nr_placar_casa\") == col(\"nr_placar_visitante\"))\n",
    "                         .count())\n",
    "\n",
    "display(f'{nm_empate} partidas resultaram em empate')"
   ]
  },
  {
   "cell_type": "code",
   "execution_count": 0,
   "metadata": {
    "application/vnd.databricks.v1+cell": {
     "cellMetadata": {
      "byteLimit": 2048000,
      "rowLimit": 10000
     },
     "inputWidgets": {},
     "nuid": "67443eb5-c9a0-480f-bcce-eb24a1d5f7d9",
     "showTitle": false,
     "tableResultSettingsMap": {},
     "title": ""
    }
   },
   "outputs": [],
   "source": [
    "## Quantas partidas foram realizadas em cada país?\n",
    "\n",
    "df_pais = (df_results_consol\n",
    "           .groupBy(\"nm_pais\")\n",
    "           .count()\n",
    "           .orderBy(col(\"count\").desc())\n",
    "\n",
    "           .withColumnRenamed(\"count\", \"qt_partidas\")\n",
    "\n",
    ")\n",
    "display(df_pais)\n"
   ]
  },
  {
   "cell_type": "code",
   "execution_count": 0,
   "metadata": {
    "application/vnd.databricks.v1+cell": {
     "cellMetadata": {
      "byteLimit": 2048000,
      "rowLimit": 10000
     },
     "inputWidgets": {},
     "nuid": "472960fc-12a2-4e68-8669-a6af62733011",
     "showTitle": false,
     "tableResultSettingsMap": {},
     "title": ""
    }
   },
   "outputs": [],
   "source": [
    "## Qual país teve mais partidas?\n",
    "\n",
    "df_partidas = df_pais.orderBy(col(\"qt_partidas\").desc()).limit(1)\n",
    "display(df_partidas)"
   ]
  },
  {
   "cell_type": "code",
   "execution_count": 0,
   "metadata": {
    "application/vnd.databricks.v1+cell": {
     "cellMetadata": {
      "byteLimit": 2048000,
      "rowLimit": 10000
     },
     "inputWidgets": {},
     "nuid": "26a8b16f-8099-4ef7-a1f1-a7d745bd5c3b",
     "showTitle": false,
     "tableResultSettingsMap": {},
     "title": ""
    }
   },
   "outputs": [],
   "source": [
    "## Qual a partida com maior número de gols?\n",
    "\n",
    "max_nr_gols = (df_results_consol\n",
    "               .withColumn(\"nr_maior_placar\", col(\"nr_placar_casa\") + col(\"nr_placar_visitante\"))\n",
    "               .orderBy(col(\"nr_maior_placar\").desc())\n",
    "               .select(\"dt_torneio\", \"nm_time_casa\", \"nm_time_visitante\", \"nr_maior_placar\")\n",
    "               .limit(1)\n",
    ")\n",
    "display(max_nr_gols)"
   ]
  },
  {
   "cell_type": "code",
   "execution_count": 0,
   "metadata": {
    "application/vnd.databricks.v1+cell": {
     "cellMetadata": {
      "byteLimit": 2048000,
      "rowLimit": 10000
     },
     "inputWidgets": {},
     "nuid": "f27d7a16-0709-4ee2-980e-c168d8bee699",
     "showTitle": false,
     "tableResultSettingsMap": {},
     "title": ""
    }
   },
   "outputs": [],
   "source": [
    "## Qual a maior goleada?\n",
    "max_diff_gols = (df_results_consol\n",
    "               .withColumn(\"nr_maior_diff_gols\", col(\"nr_placar_casa\") - col(\"nr_placar_visitante\"))\n",
    "               .orderBy(col(\"nr_maior_diff_gols\").desc())\n",
    "               .select('*')\n",
    "               .limit(1)\n",
    ")\n",
    "display(max_diff_gols)"
   ]
  },
  {
   "cell_type": "code",
   "execution_count": 0,
   "metadata": {
    "application/vnd.databricks.v1+cell": {
     "cellMetadata": {
      "byteLimit": 2048000,
      "rowLimit": 10000
     },
     "inputWidgets": {},
     "nuid": "f611daa2-7238-4d16-bc20-0587cfcb9605",
     "showTitle": false,
     "tableResultSettingsMap": {},
     "title": ""
    }
   },
   "outputs": [],
   "source": [
    "## Quantos jogos ocorreram no Brasil?\n",
    "\n",
    "df_brasil = (df_results_consol\n",
    "             .filter(col(\"nm_pais\") == \"Brazil\")\n",
    "             .count()                          \n",
    "             )\n",
    "\n",
    "display(f\"{df_brasil} jogos foram realizados no Brasil\")"
   ]
  }
 ],
 "metadata": {
  "application/vnd.databricks.v1+notebook": {
   "computePreferences": null,
   "dashboards": [],
   "environmentMetadata": {
    "base_environment": "",
    "environment_version": "2"
   },
   "inputWidgetPreferences": null,
   "language": "python",
   "notebookMetadata": {
    "pythonIndentUnit": 4
   },
   "notebookName": "nb_analise_arquivo_results",
   "widgets": {}
  },
  "language_info": {
   "name": "python"
  }
 },
 "nbformat": 4,
 "nbformat_minor": 0
}
